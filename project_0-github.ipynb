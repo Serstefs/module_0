# Making a game
# The computer thinks out an integer from 1 to 100.
# The program needs to guess the check number.

import numpy as np

def game_guessing_number(counting_attempts):
    """Function to run the game 1000 times to find out
       how quickly the game guesses the check number"""
    count_list = []
    # fixing random.seed to make your experiment reproducible!
    np.random.seed(1) 
    random_array = np.random.randint(1,101, size=(1000))
    for check_number in random_array:
        count_list.append(counting_attempts(check_number))
    score = int(np.mean(count_list))
 
    return(print('Ваш алгоритм угадывает число в среднем за',score,'попыток'))

 
def counting_attempts(check_number):
    '''There is a distinct range. We determine in which part 
       of the range the accepted check_number.
       By narrowing the range, we find the check_number.'''
    cycle_counter=1
    min_value=1
    max_value=100
    while check_number != (min_value+max_value) // 2:
        cycle_counter += 1
        predict_number = (min_value+max_value) // 2
        if check_number > predict_number:
            min_value = predict_number + 1
        elif check_number < predict_number:
            max_value = predict_number - 1

    return(cycle_counter)